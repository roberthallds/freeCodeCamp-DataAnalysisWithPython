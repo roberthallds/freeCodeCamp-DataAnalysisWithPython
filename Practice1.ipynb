{
 "cells": [
  {
   "attachments": {},
   "cell_type": "markdown",
   "metadata": {},
   "source": [
    "## freeCodeCamp Course - Data Analysis With Python\n",
    "### A certification track\n",
    "\n",
    "These are basic notes on how to use pandas. The data I used to demonstrate this is from StatKey (https://www.lock5stat.com/datapage3e.html 'RestaurantTips.csv'), and represents data on tip percentages compared to total bill amounts. "
   ]
  },
  {
   "cell_type": "code",
   "execution_count": 14,
   "metadata": {},
   "outputs": [],
   "source": [
    "import pandas as pd\n",
    "import matplotlib.pyplot as plt\n",
    "import csv"
   ]
  },
  {
   "cell_type": "code",
   "execution_count": 5,
   "metadata": {},
   "outputs": [],
   "source": [
    "data = pd.read_csv('RestaurantTips.csv')"
   ]
  },
  {
   "cell_type": "code",
   "execution_count": 7,
   "metadata": {},
   "outputs": [
    {
     "data": {
      "text/plain": [
       "(157, 7)"
      ]
     },
     "execution_count": 7,
     "metadata": {},
     "output_type": "execute_result"
    }
   ],
   "source": [
    "data.shape"
   ]
  },
  {
   "cell_type": "code",
   "execution_count": 8,
   "metadata": {},
   "outputs": [
    {
     "data": {
      "text/plain": [
       "<bound method DataFrame.info of       Bill    Tip Credit  Guests Day Server  PctTip\n",
       "0    23.70  10.00      n       2   f      A    42.2\n",
       "1    36.11   7.00      n       3   f      B    19.4\n",
       "2    31.99   5.01      y       2   f      A    15.7\n",
       "3    17.39   3.61      y       2   f      B    20.8\n",
       "4    15.41   3.00      n       2   f      B    19.5\n",
       "..     ...    ...    ...     ...  ..    ...     ...\n",
       "152  31.30   5.70      y       3   m      B    18.2\n",
       "153  12.57   2.00      n       3   m      B    15.9\n",
       "154  14.87   3.13      n       2   m      B    21.0\n",
       "155  51.68  10.00      y       6   m      B    19.3\n",
       "156  17.12   2.50      n       2   m      B    14.6\n",
       "\n",
       "[157 rows x 7 columns]>"
      ]
     },
     "execution_count": 8,
     "metadata": {},
     "output_type": "execute_result"
    }
   ],
   "source": [
    "data.info"
   ]
  },
  {
   "cell_type": "code",
   "execution_count": 15,
   "metadata": {},
   "outputs": [
    {
     "data": {
      "text/html": [
       "<div>\n",
       "<style scoped>\n",
       "    .dataframe tbody tr th:only-of-type {\n",
       "        vertical-align: middle;\n",
       "    }\n",
       "\n",
       "    .dataframe tbody tr th {\n",
       "        vertical-align: top;\n",
       "    }\n",
       "\n",
       "    .dataframe thead th {\n",
       "        text-align: right;\n",
       "    }\n",
       "</style>\n",
       "<table border=\"1\" class=\"dataframe\">\n",
       "  <thead>\n",
       "    <tr style=\"text-align: right;\">\n",
       "      <th></th>\n",
       "      <th>Bill</th>\n",
       "      <th>Tip</th>\n",
       "      <th>Credit</th>\n",
       "      <th>Guests</th>\n",
       "      <th>Day</th>\n",
       "      <th>Server</th>\n",
       "      <th>PctTip</th>\n",
       "    </tr>\n",
       "  </thead>\n",
       "  <tbody>\n",
       "    <tr>\n",
       "      <th>0</th>\n",
       "      <td>23.70</td>\n",
       "      <td>10.00</td>\n",
       "      <td>n</td>\n",
       "      <td>2</td>\n",
       "      <td>f</td>\n",
       "      <td>A</td>\n",
       "      <td>42.2</td>\n",
       "    </tr>\n",
       "    <tr>\n",
       "      <th>1</th>\n",
       "      <td>36.11</td>\n",
       "      <td>7.00</td>\n",
       "      <td>n</td>\n",
       "      <td>3</td>\n",
       "      <td>f</td>\n",
       "      <td>B</td>\n",
       "      <td>19.4</td>\n",
       "    </tr>\n",
       "    <tr>\n",
       "      <th>2</th>\n",
       "      <td>31.99</td>\n",
       "      <td>5.01</td>\n",
       "      <td>y</td>\n",
       "      <td>2</td>\n",
       "      <td>f</td>\n",
       "      <td>A</td>\n",
       "      <td>15.7</td>\n",
       "    </tr>\n",
       "    <tr>\n",
       "      <th>3</th>\n",
       "      <td>17.39</td>\n",
       "      <td>3.61</td>\n",
       "      <td>y</td>\n",
       "      <td>2</td>\n",
       "      <td>f</td>\n",
       "      <td>B</td>\n",
       "      <td>20.8</td>\n",
       "    </tr>\n",
       "    <tr>\n",
       "      <th>4</th>\n",
       "      <td>15.41</td>\n",
       "      <td>3.00</td>\n",
       "      <td>n</td>\n",
       "      <td>2</td>\n",
       "      <td>f</td>\n",
       "      <td>B</td>\n",
       "      <td>19.5</td>\n",
       "    </tr>\n",
       "    <tr>\n",
       "      <th>...</th>\n",
       "      <td>...</td>\n",
       "      <td>...</td>\n",
       "      <td>...</td>\n",
       "      <td>...</td>\n",
       "      <td>...</td>\n",
       "      <td>...</td>\n",
       "      <td>...</td>\n",
       "    </tr>\n",
       "    <tr>\n",
       "      <th>152</th>\n",
       "      <td>31.30</td>\n",
       "      <td>5.70</td>\n",
       "      <td>y</td>\n",
       "      <td>3</td>\n",
       "      <td>m</td>\n",
       "      <td>B</td>\n",
       "      <td>18.2</td>\n",
       "    </tr>\n",
       "    <tr>\n",
       "      <th>153</th>\n",
       "      <td>12.57</td>\n",
       "      <td>2.00</td>\n",
       "      <td>n</td>\n",
       "      <td>3</td>\n",
       "      <td>m</td>\n",
       "      <td>B</td>\n",
       "      <td>15.9</td>\n",
       "    </tr>\n",
       "    <tr>\n",
       "      <th>154</th>\n",
       "      <td>14.87</td>\n",
       "      <td>3.13</td>\n",
       "      <td>n</td>\n",
       "      <td>2</td>\n",
       "      <td>m</td>\n",
       "      <td>B</td>\n",
       "      <td>21.0</td>\n",
       "    </tr>\n",
       "    <tr>\n",
       "      <th>155</th>\n",
       "      <td>51.68</td>\n",
       "      <td>10.00</td>\n",
       "      <td>y</td>\n",
       "      <td>6</td>\n",
       "      <td>m</td>\n",
       "      <td>B</td>\n",
       "      <td>19.3</td>\n",
       "    </tr>\n",
       "    <tr>\n",
       "      <th>156</th>\n",
       "      <td>17.12</td>\n",
       "      <td>2.50</td>\n",
       "      <td>n</td>\n",
       "      <td>2</td>\n",
       "      <td>m</td>\n",
       "      <td>B</td>\n",
       "      <td>14.6</td>\n",
       "    </tr>\n",
       "  </tbody>\n",
       "</table>\n",
       "<p>157 rows × 7 columns</p>\n",
       "</div>"
      ],
      "text/plain": [
       "      Bill    Tip Credit  Guests Day Server  PctTip\n",
       "0    23.70  10.00      n       2   f      A    42.2\n",
       "1    36.11   7.00      n       3   f      B    19.4\n",
       "2    31.99   5.01      y       2   f      A    15.7\n",
       "3    17.39   3.61      y       2   f      B    20.8\n",
       "4    15.41   3.00      n       2   f      B    19.5\n",
       "..     ...    ...    ...     ...  ..    ...     ...\n",
       "152  31.30   5.70      y       3   m      B    18.2\n",
       "153  12.57   2.00      n       3   m      B    15.9\n",
       "154  14.87   3.13      n       2   m      B    21.0\n",
       "155  51.68  10.00      y       6   m      B    19.3\n",
       "156  17.12   2.50      n       2   m      B    14.6\n",
       "\n",
       "[157 rows x 7 columns]"
      ]
     },
     "execution_count": 15,
     "metadata": {},
     "output_type": "execute_result"
    }
   ],
   "source": [
    "data = pd.DataFrame(data)\n",
    "data"
   ]
  },
  {
   "cell_type": "code",
   "execution_count": 16,
   "metadata": {},
   "outputs": [
    {
     "data": {
      "text/html": [
       "<div>\n",
       "<style scoped>\n",
       "    .dataframe tbody tr th:only-of-type {\n",
       "        vertical-align: middle;\n",
       "    }\n",
       "\n",
       "    .dataframe tbody tr th {\n",
       "        vertical-align: top;\n",
       "    }\n",
       "\n",
       "    .dataframe thead th {\n",
       "        text-align: right;\n",
       "    }\n",
       "</style>\n",
       "<table border=\"1\" class=\"dataframe\">\n",
       "  <thead>\n",
       "    <tr style=\"text-align: right;\">\n",
       "      <th></th>\n",
       "      <th>Bill</th>\n",
       "      <th>Tip</th>\n",
       "      <th>Guests</th>\n",
       "      <th>PctTip</th>\n",
       "    </tr>\n",
       "  </thead>\n",
       "  <tbody>\n",
       "    <tr>\n",
       "      <th>count</th>\n",
       "      <td>157.000000</td>\n",
       "      <td>157.000000</td>\n",
       "      <td>157.000000</td>\n",
       "      <td>157.000000</td>\n",
       "    </tr>\n",
       "    <tr>\n",
       "      <th>mean</th>\n",
       "      <td>22.729045</td>\n",
       "      <td>3.849299</td>\n",
       "      <td>2.095541</td>\n",
       "      <td>16.619108</td>\n",
       "    </tr>\n",
       "    <tr>\n",
       "      <th>std</th>\n",
       "      <td>12.157234</td>\n",
       "      <td>2.420857</td>\n",
       "      <td>0.932212</td>\n",
       "      <td>4.386067</td>\n",
       "    </tr>\n",
       "    <tr>\n",
       "      <th>min</th>\n",
       "      <td>1.660000</td>\n",
       "      <td>0.250000</td>\n",
       "      <td>1.000000</td>\n",
       "      <td>6.700000</td>\n",
       "    </tr>\n",
       "    <tr>\n",
       "      <th>25%</th>\n",
       "      <td>15.190000</td>\n",
       "      <td>2.100000</td>\n",
       "      <td>2.000000</td>\n",
       "      <td>14.300000</td>\n",
       "    </tr>\n",
       "    <tr>\n",
       "      <th>50%</th>\n",
       "      <td>20.220000</td>\n",
       "      <td>3.350000</td>\n",
       "      <td>2.000000</td>\n",
       "      <td>16.200000</td>\n",
       "    </tr>\n",
       "    <tr>\n",
       "      <th>75%</th>\n",
       "      <td>28.840000</td>\n",
       "      <td>5.000000</td>\n",
       "      <td>2.000000</td>\n",
       "      <td>18.200000</td>\n",
       "    </tr>\n",
       "    <tr>\n",
       "      <th>max</th>\n",
       "      <td>70.510000</td>\n",
       "      <td>15.000000</td>\n",
       "      <td>7.000000</td>\n",
       "      <td>42.200000</td>\n",
       "    </tr>\n",
       "  </tbody>\n",
       "</table>\n",
       "</div>"
      ],
      "text/plain": [
       "             Bill         Tip      Guests      PctTip\n",
       "count  157.000000  157.000000  157.000000  157.000000\n",
       "mean    22.729045    3.849299    2.095541   16.619108\n",
       "std     12.157234    2.420857    0.932212    4.386067\n",
       "min      1.660000    0.250000    1.000000    6.700000\n",
       "25%     15.190000    2.100000    2.000000   14.300000\n",
       "50%     20.220000    3.350000    2.000000   16.200000\n",
       "75%     28.840000    5.000000    2.000000   18.200000\n",
       "max     70.510000   15.000000    7.000000   42.200000"
      ]
     },
     "execution_count": 16,
     "metadata": {},
     "output_type": "execute_result"
    }
   ],
   "source": [
    "data.describe()"
   ]
  },
  {
   "attachments": {},
   "cell_type": "markdown",
   "metadata": {},
   "source": [
    "### Numerical Analysis and Visualization"
   ]
  },
  {
   "cell_type": "code",
   "execution_count": 17,
   "metadata": {},
   "outputs": [
    {
     "data": {
      "text/plain": [
       "count    157.000000\n",
       "mean      22.729045\n",
       "std       12.157234\n",
       "min        1.660000\n",
       "25%       15.190000\n",
       "50%       20.220000\n",
       "75%       28.840000\n",
       "max       70.510000\n",
       "Name: Bill, dtype: float64"
      ]
     },
     "execution_count": 17,
     "metadata": {},
     "output_type": "execute_result"
    }
   ],
   "source": [
    "data['Bill'].describe()"
   ]
  },
  {
   "attachments": {},
   "cell_type": "markdown",
   "metadata": {},
   "source": [
    "A boxplot of the distribution of bill amounts, excluding tips. \n",
    "\n",
    "Salient takeaways:\n",
    "\n",
    "- Approximately 50% of all orders had a bill amount between $15 and $28\n",
    "- The largest bill amount recorded is $70.51\n",
    "- The average bill amount is $22.72"
   ]
  },
  {
   "cell_type": "code",
   "execution_count": 21,
   "metadata": {},
   "outputs": [
    {
     "data": {
      "text/plain": [
       "<AxesSubplot:>"
      ]
     },
     "execution_count": 21,
     "metadata": {},
     "output_type": "execute_result"
    },
    {
     "data": {
      "image/png": "[encoded data removed]",
      "text/plain": [
       "<Figure size 1008x432 with 1 Axes>"
      ]
     },
     "metadata": {
      "needs_background": "light"
     },
     "output_type": "display_data"
    }
   ],
   "source": [
    "data['Bill'].plot(kind='box', vert=False, figsize=(14,6))"
   ]
  },
  {
   "attachments": {},
   "cell_type": "markdown",
   "metadata": {},
   "source": [
    "Below, a density (line) plot representing the same fairly-normal distribution."
   ]
  },
  {
   "cell_type": "code",
   "execution_count": 20,
   "metadata": {},
   "outputs": [
    {
     "data": {
      "text/plain": [
       "<AxesSubplot:ylabel='Density'>"
      ]
     },
     "execution_count": 20,
     "metadata": {},
     "output_type": "execute_result"
    },
    {
     "data": {
      "image/png": "[encoded data removed]",
      "text/plain": [
       "<Figure size 1008x432 with 1 Axes>"
      ]
     },
     "metadata": {
      "needs_background": "light"
     },
     "output_type": "display_data"
    }
   ],
   "source": [
    "data['Bill'].plot(kind='density', figsize=(14,6))"
   ]
  },
  {
   "attachments": {},
   "cell_type": "markdown",
   "metadata": {},
   "source": [
    "The number of people who paid with credit card ('y') versus those who chose a different payment method ('n')."
   ]
  },
  {
   "cell_type": "code",
   "execution_count": 22,
   "metadata": {},
   "outputs": [
    {
     "data": {
      "text/plain": [
       "n    106\n",
       "y     51\n",
       "Name: Credit, dtype: int64"
      ]
     },
     "execution_count": 22,
     "metadata": {},
     "output_type": "execute_result"
    }
   ],
   "source": [
    "data['Credit'].value_counts()"
   ]
  },
  {
   "attachments": {},
   "cell_type": "markdown",
   "metadata": {},
   "source": [
    "Pie-chart visualization of the proportion of customers who paid with credit card. On the legend, 'y' represents payment with card, whereas 'n' represents a different payment method."
   ]
  },
  {
   "cell_type": "code",
   "execution_count": 25,
   "metadata": {},
   "outputs": [
    {
     "data": {
      "text/plain": [
       "<AxesSubplot:ylabel='Credit'>"
      ]
     },
     "execution_count": 25,
     "metadata": {},
     "output_type": "execute_result"
    },
    {
     "data": {
      "image/png": "[encoded data removed]",
      "text/plain": [
       "<Figure size 432x432 with 1 Axes>"
      ]
     },
     "metadata": {},
     "output_type": "display_data"
    }
   ],
   "source": [
    "data['Credit'].value_counts().plot(kind='pie', figsize=(6,6), legend=True)"
   ]
  },
  {
   "attachments": {},
   "cell_type": "markdown",
   "metadata": {},
   "source": [
    "The number of parties that consisted of an amount of people 1-7:"
   ]
  },
  {
   "cell_type": "code",
   "execution_count": 23,
   "metadata": {},
   "outputs": [
    {
     "data": {
      "text/plain": [
       "2    99\n",
       "1    30\n",
       "3    20\n",
       "4     3\n",
       "5     2\n",
       "6     2\n",
       "7     1\n",
       "Name: Guests, dtype: int64"
      ]
     },
     "execution_count": 23,
     "metadata": {},
     "output_type": "execute_result"
    }
   ],
   "source": [
    "data['Guests'].value_counts()"
   ]
  },
  {
   "attachments": {},
   "cell_type": "markdown",
   "metadata": {},
   "source": [
    "### Correlations"
   ]
  },
  {
   "cell_type": "code",
   "execution_count": 27,
   "metadata": {},
   "outputs": [
    {
     "data": {
      "text/plain": [
       "B    65\n",
       "A    60\n",
       "C    32\n",
       "Name: Server, dtype: int64"
      ]
     },
     "execution_count": 27,
     "metadata": {},
     "output_type": "execute_result"
    }
   ],
   "source": [
    "data['Server'].value_counts()"
   ]
  },
  {
   "cell_type": "code",
   "execution_count": 29,
   "metadata": {},
   "outputs": [
    {
     "data": {
      "text/plain": [
       "count    157.000000\n",
       "mean      16.619108\n",
       "std        4.386067\n",
       "min        6.700000\n",
       "25%       14.300000\n",
       "50%       16.200000\n",
       "75%       18.200000\n",
       "max       42.200000\n",
       "Name: PctTip, dtype: float64"
      ]
     },
     "execution_count": 29,
     "metadata": {},
     "output_type": "execute_result"
    }
   ],
   "source": [
    "data['PctTip'].describe()"
   ]
  },
  {
   "cell_type": "code",
   "execution_count": 30,
   "metadata": {},
   "outputs": [
    {
     "data": {
      "text/html": [
       "<div>\n",
       "<style scoped>\n",
       "    .dataframe tbody tr th:only-of-type {\n",
       "        vertical-align: middle;\n",
       "    }\n",
       "\n",
       "    .dataframe tbody tr th {\n",
       "        vertical-align: top;\n",
       "    }\n",
       "\n",
       "    .dataframe thead th {\n",
       "        text-align: right;\n",
       "    }\n",
       "</style>\n",
       "<table border=\"1\" class=\"dataframe\">\n",
       "  <thead>\n",
       "    <tr style=\"text-align: right;\">\n",
       "      <th></th>\n",
       "      <th>Bill</th>\n",
       "      <th>Tip</th>\n",
       "      <th>Guests</th>\n",
       "      <th>PctTip</th>\n",
       "    </tr>\n",
       "  </thead>\n",
       "  <tbody>\n",
       "    <tr>\n",
       "      <th>Bill</th>\n",
       "      <td>1.000000</td>\n",
       "      <td>0.915059</td>\n",
       "      <td>0.561037</td>\n",
       "      <td>0.135298</td>\n",
       "    </tr>\n",
       "    <tr>\n",
       "      <th>Tip</th>\n",
       "      <td>0.915059</td>\n",
       "      <td>1.000000</td>\n",
       "      <td>0.503960</td>\n",
       "      <td>0.486148</td>\n",
       "    </tr>\n",
       "    <tr>\n",
       "      <th>Guests</th>\n",
       "      <td>0.561037</td>\n",
       "      <td>0.503960</td>\n",
       "      <td>1.000000</td>\n",
       "      <td>0.077156</td>\n",
       "    </tr>\n",
       "    <tr>\n",
       "      <th>PctTip</th>\n",
       "      <td>0.135298</td>\n",
       "      <td>0.486148</td>\n",
       "      <td>0.077156</td>\n",
       "      <td>1.000000</td>\n",
       "    </tr>\n",
       "  </tbody>\n",
       "</table>\n",
       "</div>"
      ],
      "text/plain": [
       "            Bill       Tip    Guests    PctTip\n",
       "Bill    1.000000  0.915059  0.561037  0.135298\n",
       "Tip     0.915059  1.000000  0.503960  0.486148\n",
       "Guests  0.561037  0.503960  1.000000  0.077156\n",
       "PctTip  0.135298  0.486148  0.077156  1.000000"
      ]
     },
     "execution_count": 30,
     "metadata": {},
     "output_type": "execute_result"
    }
   ],
   "source": [
    "corr = data.corr()\n",
    "\n",
    "corr"
   ]
  },
  {
   "attachments": {},
   "cell_type": "markdown",
   "metadata": {},
   "source": [
    "Correlation between each feature in the dataset with one another.\n",
    "\n",
    "- Blue represents positive correlation\n",
    "- Red represents negetive correlation\n",
    "- Strength of the color represents strength of correlation"
   ]
  },
  {
   "cell_type": "code",
   "execution_count": 33,
   "metadata": {},
   "outputs": [
    {
     "data": {
      "image/png": "[encoded data removed]",
      "text/plain": [
       "<Figure size 288x288 with 1 Axes>"
      ]
     },
     "metadata": {
      "needs_background": "light"
     },
     "output_type": "display_data"
    }
   ],
   "source": [
    "fig = plt.figure(figsize=(4,4))\n",
    "plt.matshow(corr, cmap='RdBu', fignum=fig.number)\n",
    "plt.xticks(range(len(corr.columns)), corr.columns, rotation='vertical');\n",
    "plt.yticks(range(len(corr.columns)), corr.columns);"
   ]
  }
 ],
 "metadata": {
  "kernelspec": {
   "display_name": "base",
   "language": "python",
   "name": "python3"
  },
  "language_info": {
   "codemirror_mode": {
    "name": "ipython",
    "version": 3
   },
   "file_extension": ".py",
   "mimetype": "text/x-python",
   "name": "python",
   "nbconvert_exporter": "python",
   "pygments_lexer": "ipython3",
   "version": "3.9.12"
  },
  "orig_nbformat": 4
 },
 "nbformat": 4,
 "nbformat_minor": 2
}
