{
 "cells": [
  {
   "attachments": {},
   "cell_type": "markdown",
   "metadata": {},
   "source": [
    "## freeCodeCamp Course - Data Analysis With Python\n",
    "### A project-based certification track\n",
    "\n",
    "Using pandas to create dataframes out of CSVs, create new columns out of data from existing ones, plotting histograms, and querying dataframes for specic pieces of information. The data I used to demonstrate this is from StatKey (https://www.lock5stat.com/datapage3e.html 'RestaurantTips.csv'), and represents data on tip percentages compared to total bill amounts."
   ]
  },
  {
   "cell_type": "code",
   "execution_count": 49,
   "metadata": {},
   "outputs": [],
   "source": [
    "import numpy as np\n",
    "import pandas as pd\n",
    "import matplotlib.pyplot as plt\n",
    "import csv"
   ]
  },
  {
   "cell_type": "code",
   "execution_count": 50,
   "metadata": {},
   "outputs": [],
   "source": [
    "data = pd.read_csv('RestaurantTips.csv')"
   ]
  },
  {
   "cell_type": "code",
   "execution_count": 51,
   "metadata": {},
   "outputs": [
    {
     "data": {
      "text/html": [
       "<div>\n",
       "<style scoped>\n",
       "    .dataframe tbody tr th:only-of-type {\n",
       "        vertical-align: middle;\n",
       "    }\n",
       "\n",
       "    .dataframe tbody tr th {\n",
       "        vertical-align: top;\n",
       "    }\n",
       "\n",
       "    .dataframe thead th {\n",
       "        text-align: right;\n",
       "    }\n",
       "</style>\n",
       "<table border=\"1\" class=\"dataframe\">\n",
       "  <thead>\n",
       "    <tr style=\"text-align: right;\">\n",
       "      <th></th>\n",
       "      <th>Bill</th>\n",
       "      <th>Tip</th>\n",
       "      <th>Credit</th>\n",
       "      <th>Guests</th>\n",
       "      <th>Day</th>\n",
       "      <th>Server</th>\n",
       "      <th>PctTip</th>\n",
       "    </tr>\n",
       "  </thead>\n",
       "  <tbody>\n",
       "    <tr>\n",
       "      <th>0</th>\n",
       "      <td>23.70</td>\n",
       "      <td>10.00</td>\n",
       "      <td>n</td>\n",
       "      <td>2</td>\n",
       "      <td>f</td>\n",
       "      <td>A</td>\n",
       "      <td>42.2</td>\n",
       "    </tr>\n",
       "    <tr>\n",
       "      <th>1</th>\n",
       "      <td>36.11</td>\n",
       "      <td>7.00</td>\n",
       "      <td>n</td>\n",
       "      <td>3</td>\n",
       "      <td>f</td>\n",
       "      <td>B</td>\n",
       "      <td>19.4</td>\n",
       "    </tr>\n",
       "    <tr>\n",
       "      <th>2</th>\n",
       "      <td>31.99</td>\n",
       "      <td>5.01</td>\n",
       "      <td>y</td>\n",
       "      <td>2</td>\n",
       "      <td>f</td>\n",
       "      <td>A</td>\n",
       "      <td>15.7</td>\n",
       "    </tr>\n",
       "    <tr>\n",
       "      <th>3</th>\n",
       "      <td>17.39</td>\n",
       "      <td>3.61</td>\n",
       "      <td>y</td>\n",
       "      <td>2</td>\n",
       "      <td>f</td>\n",
       "      <td>B</td>\n",
       "      <td>20.8</td>\n",
       "    </tr>\n",
       "    <tr>\n",
       "      <th>4</th>\n",
       "      <td>15.41</td>\n",
       "      <td>3.00</td>\n",
       "      <td>n</td>\n",
       "      <td>2</td>\n",
       "      <td>f</td>\n",
       "      <td>B</td>\n",
       "      <td>19.5</td>\n",
       "    </tr>\n",
       "    <tr>\n",
       "      <th>...</th>\n",
       "      <td>...</td>\n",
       "      <td>...</td>\n",
       "      <td>...</td>\n",
       "      <td>...</td>\n",
       "      <td>...</td>\n",
       "      <td>...</td>\n",
       "      <td>...</td>\n",
       "    </tr>\n",
       "    <tr>\n",
       "      <th>152</th>\n",
       "      <td>31.30</td>\n",
       "      <td>5.70</td>\n",
       "      <td>y</td>\n",
       "      <td>3</td>\n",
       "      <td>m</td>\n",
       "      <td>B</td>\n",
       "      <td>18.2</td>\n",
       "    </tr>\n",
       "    <tr>\n",
       "      <th>153</th>\n",
       "      <td>12.57</td>\n",
       "      <td>2.00</td>\n",
       "      <td>n</td>\n",
       "      <td>3</td>\n",
       "      <td>m</td>\n",
       "      <td>B</td>\n",
       "      <td>15.9</td>\n",
       "    </tr>\n",
       "    <tr>\n",
       "      <th>154</th>\n",
       "      <td>14.87</td>\n",
       "      <td>3.13</td>\n",
       "      <td>n</td>\n",
       "      <td>2</td>\n",
       "      <td>m</td>\n",
       "      <td>B</td>\n",
       "      <td>21.0</td>\n",
       "    </tr>\n",
       "    <tr>\n",
       "      <th>155</th>\n",
       "      <td>51.68</td>\n",
       "      <td>10.00</td>\n",
       "      <td>y</td>\n",
       "      <td>6</td>\n",
       "      <td>m</td>\n",
       "      <td>B</td>\n",
       "      <td>19.3</td>\n",
       "    </tr>\n",
       "    <tr>\n",
       "      <th>156</th>\n",
       "      <td>17.12</td>\n",
       "      <td>2.50</td>\n",
       "      <td>n</td>\n",
       "      <td>2</td>\n",
       "      <td>m</td>\n",
       "      <td>B</td>\n",
       "      <td>14.6</td>\n",
       "    </tr>\n",
       "  </tbody>\n",
       "</table>\n",
       "<p>157 rows × 7 columns</p>\n",
       "</div>"
      ],
      "text/plain": [
       "      Bill    Tip Credit  Guests Day Server  PctTip\n",
       "0    23.70  10.00      n       2   f      A    42.2\n",
       "1    36.11   7.00      n       3   f      B    19.4\n",
       "2    31.99   5.01      y       2   f      A    15.7\n",
       "3    17.39   3.61      y       2   f      B    20.8\n",
       "4    15.41   3.00      n       2   f      B    19.5\n",
       "..     ...    ...    ...     ...  ..    ...     ...\n",
       "152  31.30   5.70      y       3   m      B    18.2\n",
       "153  12.57   2.00      n       3   m      B    15.9\n",
       "154  14.87   3.13      n       2   m      B    21.0\n",
       "155  51.68  10.00      y       6   m      B    19.3\n",
       "156  17.12   2.50      n       2   m      B    14.6\n",
       "\n",
       "[157 rows x 7 columns]"
      ]
     },
     "execution_count": 51,
     "metadata": {},
     "output_type": "execute_result"
    }
   ],
   "source": [
    "data = pd.DataFrame(data)\n",
    "data"
   ]
  },
  {
   "attachments": {},
   "cell_type": "markdown",
   "metadata": {},
   "source": [
    "Create new column called \"Total Cost\" which calculates bill amount plus the tip amount; then, view the first 5 values using .head(), order the descriptive statistics using .describe(), and plot using a histogram."
   ]
  },
  {
   "cell_type": "code",
   "execution_count": 52,
   "metadata": {},
   "outputs": [],
   "source": [
    "data['Total_Cost'] = data['Bill'] + data['Tip']"
   ]
  },
  {
   "cell_type": "code",
   "execution_count": 53,
   "metadata": {},
   "outputs": [
    {
     "data": {
      "text/plain": [
       "0    33.70\n",
       "1    43.11\n",
       "2    37.00\n",
       "3    21.00\n",
       "4    18.41\n",
       "Name: Total_Cost, dtype: float64"
      ]
     },
     "execution_count": 53,
     "metadata": {},
     "output_type": "execute_result"
    }
   ],
   "source": [
    "data['Total_Cost'].head()"
   ]
  },
  {
   "cell_type": "code",
   "execution_count": 54,
   "metadata": {},
   "outputs": [
    {
     "data": {
      "text/plain": [
       "count    157.000000\n",
       "mean      26.578344\n",
       "std       14.405587\n",
       "min        1.910000\n",
       "25%       18.000000\n",
       "50%       23.760000\n",
       "75%       33.700000\n",
       "max       81.000000\n",
       "Name: Total_Cost, dtype: float64"
      ]
     },
     "execution_count": 54,
     "metadata": {},
     "output_type": "execute_result"
    }
   ],
   "source": [
    "data['Total_Cost'].describe()"
   ]
  },
  {
   "cell_type": "code",
   "execution_count": 59,
   "metadata": {},
   "outputs": [
    {
     "data": {
      "text/plain": [
       "<AxesSubplot:ylabel='Frequency'>"
      ]
     },
     "execution_count": 59,
     "metadata": {},
     "output_type": "execute_result"
    },
    {
     "data": {
      "image/png": "[encoded data removed]",
      "text/plain": [
       "<Figure size 1008x432 with 1 Axes>"
      ]
     },
     "metadata": {
      "needs_background": "light"
     },
     "output_type": "display_data"
    }
   ],
   "source": [
    "data['Total_Cost'].plot(kind='hist', bins=75, figsize=(14,6))"
   ]
  },
  {
   "attachments": {},
   "cell_type": "markdown",
   "metadata": {},
   "source": [
    "Find mean tip amount per server using .loc() method and formatted strings:"
   ]
  },
  {
   "cell_type": "code",
   "execution_count": 74,
   "metadata": {},
   "outputs": [
    {
     "name": "stdout",
     "output_type": "stream",
     "text": [
      "MEAN TIP AMOUNTS\n",
      "----------------\n",
      "Server A:   $4.04\n",
      "Server B:   $3.43\n",
      "Server C:   $4.33\n"
     ]
    }
   ],
   "source": [
    "A_mean = round(data.loc[data['Server'] == 'A', 'Tip'].mean(), 2)\n",
    "B_mean = round(data.loc[data['Server'] == 'B', 'Tip'].mean(), 2)\n",
    "C_mean = round(data.loc[data['Server'] == 'C', 'Tip'].mean(), 2)\n",
    "\n",
    "print(\"MEAN TIP AMOUNTS\")\n",
    "print(\"----------------\")\n",
    "print(f\"Server A:   ${A_mean}\")\n",
    "print(f\"Server B:   ${B_mean}\")\n",
    "print(f\"Server C:   ${C_mean}\")"
   ]
  },
  {
   "attachments": {},
   "cell_type": "markdown",
   "metadata": {},
   "source": [
    "Find amount of tables served by each Server using same methods as above:"
   ]
  },
  {
   "cell_type": "code",
   "execution_count": 78,
   "metadata": {},
   "outputs": [
    {
     "name": "stdout",
     "output_type": "stream",
     "text": [
      "NUMBER OF TABLES SERVED\n",
      "-----------------------\n",
      "Server A:   60\n",
      "Server B:   65\n",
      "Server C:   32\n"
     ]
    }
   ],
   "source": [
    "A_count = data.loc[data['Server'] == 'A'].shape[0]\n",
    "B_count = data.loc[data['Server'] == 'B'].shape[0]\n",
    "C_count = data.loc[data['Server'] == 'C'].shape[0]\n",
    "\n",
    "print(\"NUMBER OF TABLES SERVED\")\n",
    "print(\"-----------------------\")\n",
    "print(f\"Server A:   {A_count}\")\n",
    "print(f\"Server B:   {B_count}\")\n",
    "print(f\"Server C:   {C_count}\")"
   ]
  }
 ],
 "metadata": {
  "kernelspec": {
   "display_name": "base",
   "language": "python",
   "name": "python3"
  },
  "language_info": {
   "codemirror_mode": {
    "name": "ipython",
    "version": 3
   },
   "file_extension": ".py",
   "mimetype": "text/x-python",
   "name": "python",
   "nbconvert_exporter": "python",
   "pygments_lexer": "ipython3",
   "version": "3.9.12"
  },
  "orig_nbformat": 4
 },
 "nbformat": 4,
 "nbformat_minor": 2
}
