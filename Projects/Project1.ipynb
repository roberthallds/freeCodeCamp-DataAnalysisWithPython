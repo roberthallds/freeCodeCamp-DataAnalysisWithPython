{
 "cells": [
  {
   "attachments": {},
   "cell_type": "markdown",
   "metadata": {},
   "source": [
    "## Lab 1 - Robert Hall\n",
    "### Data Analysis w/ Python Certification - freeCodeCamp\n",
    "### 05/21/2023"
   ]
  },
  {
   "attachments": {},
   "cell_type": "markdown",
   "metadata": {},
   "source": [
    "Purpose: A calculator for mean, median and standard deviation of a dataset."
   ]
  }
 ],
 "metadata": {
  "language_info": {
   "name": "python"
  },
  "orig_nbformat": 4
 },
 "nbformat": 4,
 "nbformat_minor": 2
}
